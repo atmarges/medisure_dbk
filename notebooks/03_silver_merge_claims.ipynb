{
 "cells": [
  {
   "cell_type": "code",
   "execution_count": 0,
   "metadata": {
    "application/vnd.databricks.v1+cell": {
     "cellMetadata": {
      "byteLimit": 2048000,
      "rowLimit": 10000
     },
     "inputWidgets": {},
     "nuid": "0dde3d38-fcd4-4022-a0a7-4ade5c4210d3",
     "showTitle": false,
     "tableResultSettingsMap": {},
     "title": ""
    }
   },
   "outputs": [],
   "source": [
    "from pyspark.sql import functions as F\n",
    "from config.config import *\n",
    "from config.schemas import *"
   ]
  },
  {
   "cell_type": "code",
   "execution_count": 0,
   "metadata": {
    "application/vnd.databricks.v1+cell": {
     "cellMetadata": {
      "byteLimit": 2048000,
      "rowLimit": 10000
     },
     "inputWidgets": {},
     "nuid": "635771af-123d-48a8-9e2b-dbd52fece408",
     "showTitle": false,
     "tableResultSettingsMap": {},
     "title": ""
    }
   },
   "outputs": [],
   "source": [
    "cols_relevant = [\n",
    "    \"ClaimID\",\n",
    "    \"MemberID\",\n",
    "    \"ProviderID\",\n",
    "    \"ClaimDate\",\n",
    "    \"Amount\",\n",
    "    \"Status\",\n",
    "    \"ICD10Codes\",\n",
    "    \"CPTCodes\",\n",
    "    \"meta_timestamp\",\n",
    "    \"meta_source_file\",\n",
    "]\n",
    "\n",
    "df_claims_batch = spark.read.table(bt_fact_claims_batch).select(cols_relevant)\n",
    "df_claims_stream = spark.read.table(bt_fact_claims_stream).select(cols_relevant)\n",
    "\n",
    "\n",
    "df_claims_merged = df_claims_batch.unionByName(df_claims_stream)"
   ]
  },
  {
   "cell_type": "code",
   "execution_count": 0,
   "metadata": {
    "application/vnd.databricks.v1+cell": {
     "cellMetadata": {
      "byteLimit": 2048000,
      "rowLimit": 10000
     },
     "inputWidgets": {},
     "nuid": "824309d4-a143-4fc2-b395-8dfec0447229",
     "showTitle": false,
     "tableResultSettingsMap": {},
     "title": ""
    }
   },
   "outputs": [],
   "source": [
    "# Save dataframe to target delta table\n",
    "print(f\"Saving data to: {st_fact_claims_merged}\")\n",
    "(\n",
    "    df_claims_merged.write\n",
    "        .mode(\"overwrite\")\n",
    "        .saveAsTable(st_fact_claims_merged)\n",
    ")"
   ]
  }
 ],
 "metadata": {
  "application/vnd.databricks.v1+notebook": {
   "computePreferences": null,
   "dashboards": [],
   "environmentMetadata": {
    "base_environment": "",
    "environment_version": "3"
   },
   "inputWidgetPreferences": null,
   "language": "python",
   "notebookMetadata": {
    "pythonIndentUnit": 4
   },
   "notebookName": "03_silver_merge_claims",
   "widgets": {}
  },
  "language_info": {
   "name": "python"
  }
 },
 "nbformat": 4,
 "nbformat_minor": 0
}
