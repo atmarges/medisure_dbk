{
 "cells": [
  {
   "cell_type": "code",
   "execution_count": 0,
   "metadata": {
    "application/vnd.databricks.v1+cell": {
     "cellMetadata": {
      "byteLimit": 2048000,
      "rowLimit": 10000
     },
     "inputWidgets": {},
     "nuid": "47d80326-1a90-4528-9341-bf99ca8b41ec",
     "showTitle": false,
     "tableResultSettingsMap": {},
     "title": ""
    }
   },
   "outputs": [],
   "source": [
    "import dlt\n",
    "from pyspark.sql import functions as F\n",
    "from config.config import *"
   ]
  },
  {
   "cell_type": "code",
   "execution_count": 0,
   "metadata": {
    "application/vnd.databricks.v1+cell": {
     "cellMetadata": {},
     "inputWidgets": {},
     "nuid": "7b57c74f-ed6b-4c78-a8f4-a54811f9ffc4",
     "showTitle": false,
     "tableResultSettingsMap": {},
     "title": ""
    }
   },
   "outputs": [],
   "source": [
    "# Use DLT to create a silver table which merges the data from bt_claims_batch and bt_claims_stream\n",
    "# Remove null data\n",
    "\n",
    "@dlt.table(\n",
    "    name=st_fact_claims_merged,\n",
    "    comment=\"Merges the data from bt_claims_batch and bt_claims_stream\",\n",
    "    table_properties={\"pipelines.reset.allowed\": \"true\"}\n",
    ")\n",
    "@dlt.expect_or_drop(\n",
    "    \"not_null_keys\",\n",
    "    \"ClaimID IS NOT NULL AND MemberID IS NOT NULL AND ProviderID IS NOT NULL\"\n",
    ")\n",
    "def silver_claims_combined():\n",
    "    cols_relevant = [\n",
    "        \"ClaimID\",\n",
    "        \"MemberID\",\n",
    "        \"ProviderID\",\n",
    "        \"ClaimDate\",\n",
    "        \"Amount\",\n",
    "        \"Status\",\n",
    "        \"ICD10Codes\",\n",
    "        \"CPTCodes\",\n",
    "        \"meta_timestamp\",\n",
    "        \"meta_source_file\",\n",
    "    ]\n",
    "\n",
    "    df_claims_batch = spark.read.table(bt_fact_claims_batch).select(cols_relevant)\n",
    "    df_claims_stream = spark.read.table(bt_fact_claims_stream).select(cols_relevant)\n",
    "\n",
    "\n",
    "    return df_claims_batch.unionByName(df_claims_stream)"
   ]
  }
 ],
 "metadata": {
  "application/vnd.databricks.v1+notebook": {
   "computePreferences": {
    "hardware": {
     "accelerator": null,
     "gpuPoolId": null,
     "memory": null
    }
   },
   "dashboards": [],
   "environmentMetadata": {
    "base_environment": "",
    "environment_version": "3"
   },
   "inputWidgetPreferences": null,
   "language": "python",
   "notebookMetadata": {
    "pythonIndentUnit": 4
   },
   "notebookName": "03_silver_merge_claims_dlt",
   "widgets": {}
  },
  "language_info": {
   "name": "python"
  }
 },
 "nbformat": 4,
 "nbformat_minor": 0
}
