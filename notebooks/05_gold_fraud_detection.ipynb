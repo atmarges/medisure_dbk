{
 "cells": [
  {
   "cell_type": "code",
   "execution_count": 0,
   "metadata": {
    "application/vnd.databricks.v1+cell": {
     "cellMetadata": {
      "byteLimit": 2048000,
      "rowLimit": 10000
     },
     "inputWidgets": {},
     "nuid": "c7048c58-f254-48a3-8b69-ed53733e1a18",
     "showTitle": false,
     "tableResultSettingsMap": {},
     "title": ""
    }
   },
   "outputs": [],
   "source": [
    "from pyspark.sql import functions as F\n",
    "from delta.tables import DeltaTable\n",
    "from pyspark.sql.functions import window\n",
    "from config.config import *\n",
    "from config.schemas import *"
   ]
  },
  {
   "cell_type": "code",
   "execution_count": 0,
   "metadata": {
    "application/vnd.databricks.v1+cell": {
     "cellMetadata": {
      "byteLimit": 2048000,
      "rowLimit": 10000
     },
     "inputWidgets": {},
     "nuid": "0859c400-8ad2-4f7c-a67e-3c6d38a55b90",
     "showTitle": false,
     "tableResultSettingsMap": {},
     "title": ""
    }
   },
   "outputs": [],
   "source": [
    "# Load st_fact_claims_enriched table\n",
    "df_claims = spark.table(st_fact_claims_enriched)\n",
    "\n",
    "\n",
    "# Check for duplicate billing\n",
    "df_duplicates = (\n",
    "    df_claims\n",
    "        .groupBy(\"ClaimID\", \"ClaimDate\")\n",
    "        .agg(F.count(\"*\").alias(\"dup_count\"))\n",
    "        .filter(F.col(\"dup_count\") > 1)\n",
    ")\n",
    "\n",
    "\n",
    "# Check for too many claims per member in short window\n",
    "df_burst = (\n",
    "    df_claims\n",
    "        .groupBy(\"MemberID\", \"ClaimDate\", window(F.col(\"ClaimDate\"), \"1 day\"))\n",
    "        .count()\n",
    "        .filter(F.col(\"count\") >= 2)\n",
    ")  # Threshold set to 2 days (just to have output for the example)\n",
    "\n",
    "\n",
    "# Check suspecious member cluster (sometimes can be an indicator of a provider fabricating claims)\n",
    "df_member_provider = df_claims.select(\"MemberID\", \"ProviderID\", \"ClaimDate\").distinct()\n",
    "df_provider_counts = df_member_provider.groupBy(\"ProviderID\").count()\n",
    "df_exclusive_members = (\n",
    "    df_member_provider\n",
    "        .groupBy(\"MemberID\").count()\n",
    "        .filter(F.col(\"count\")==1)\n",
    ")  # member has only 1 provider\n",
    "\n",
    "df_exclusive_with_provider = df_exclusive_members.join(df_member_provider, \"MemberID\")"
   ]
  },
  {
   "cell_type": "code",
   "execution_count": 0,
   "metadata": {
    "application/vnd.databricks.v1+cell": {
     "cellMetadata": {
      "byteLimit": 2048000,
      "rowLimit": 10000
     },
     "inputWidgets": {},
     "nuid": "578923f8-f210-4d08-9d7b-263f1977fb7e",
     "showTitle": false,
     "tableResultSettingsMap": {},
     "title": ""
    }
   },
   "outputs": [],
   "source": [
    "# Fill up columns\n",
    "\n",
    "dup_signals = (df_duplicates\n",
    "    .select(\"ClaimID\", \"ClaimDate\")\n",
    "    .withColumn(\"signal\", F.lit(\"duplicate_claim\"))\n",
    "    .withColumn(\"MemberID\", F.lit(None).cast(\"string\"))\n",
    "    .withColumn(\"ProviderID\", F.lit(None).cast(\"string\"))\n",
    "    .select(\"MemberID\", \"ProviderID\", \"ClaimID\", \"ClaimDate\", \"signal\")\n",
    ")\n",
    "\n",
    "\n",
    "burst_signals = (df_burst\n",
    "    .select(\"MemberID\", \"ClaimDate\")\n",
    "    .withColumn(\"ClaimID\", F.lit(None).cast(\"string\"))\n",
    "    .withColumn(\"ProviderID\", F.lit(None).cast(\"string\"))\n",
    "    .withColumn(\"signal\", F.lit(\"claim_burst\"))\n",
    "    .select(\"MemberID\", \"ProviderID\", \"ClaimID\", \"ClaimDate\", \"signal\")\n",
    ")\n",
    "\n",
    "\n",
    "exclusive_signals = (df_exclusive_with_provider\n",
    "    .select(\"ProviderID\",\"MemberID\", \"ClaimDate\")\n",
    "    .withColumn(\"ClaimID\", F.lit(None).cast(\"string\"))\n",
    "    .withColumn(\"signal\", F.lit(\"exclusive_member_provider\"))\n",
    "    .select(\"MemberID\", \"ProviderID\", \"ClaimID\", \"ClaimDate\", \"signal\")\n",
    ")\n",
    "\n",
    "# Union all into a single fraud_signals table\n",
    "df_signals = (\n",
    "    dup_signals\n",
    "        .union(burst_signals)\n",
    "        .union(exclusive_signals)\n",
    ")\n",
    "\n",
    "df_signals.write.format(\"delta\").mode(\"overwrite\").saveAsTable(gt_fraud_signal)\n"
   ]
  },
  {
   "cell_type": "code",
   "execution_count": 0,
   "metadata": {
    "application/vnd.databricks.v1+cell": {
     "cellMetadata": {
      "byteLimit": 2048000,
      "rowLimit": 10000
     },
     "inputWidgets": {},
     "nuid": "414a671e-5d4a-4256-b274-07fe02d49397",
     "showTitle": false,
     "tableResultSettingsMap": {
      "0": {
       "dataGridStateBlob": "{\"version\":1,\"tableState\":{\"columnPinning\":{\"left\":[\"#row_number#\"],\"right\":[]},\"columnSizing\":{},\"columnVisibility\":{}},\"settings\":{\"columns\":{}},\"syncTimestamp\":1758103539246}",
       "filterBlob": null,
       "queryPlanFiltersBlob": null,
       "tableResultIndex": 0
      }
     },
     "title": ""
    }
   },
   "outputs": [],
   "source": [
    "df_signals.display()"
   ]
  },
  {
   "cell_type": "code",
   "execution_count": 0,
   "metadata": {
    "application/vnd.databricks.v1+cell": {
     "cellMetadata": {},
     "inputWidgets": {},
     "nuid": "f635b40a-7d0c-4fa8-b36e-7dc03430d96a",
     "showTitle": false,
     "tableResultSettingsMap": {},
     "title": ""
    }
   },
   "outputs": [],
   "source": []
  }
 ],
 "metadata": {
  "application/vnd.databricks.v1+notebook": {
   "computePreferences": null,
   "dashboards": [],
   "environmentMetadata": {
    "base_environment": "",
    "environment_version": "3"
   },
   "inputWidgetPreferences": null,
   "language": "python",
   "notebookMetadata": {
    "pythonIndentUnit": 4
   },
   "notebookName": "05_gold_fraud_detection",
   "widgets": {}
  },
  "language_info": {
   "name": "python"
  }
 },
 "nbformat": 4,
 "nbformat_minor": 0
}
